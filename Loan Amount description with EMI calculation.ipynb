{
 "cells": [
  {
   "cell_type": "markdown",
   "metadata": {},
   "source": [
    "# Author: Bakki Akhil"
   ]
  },
  {
   "cell_type": "markdown",
   "metadata": {},
   "source": [
    "### The main aim of this project is to get a knowledge on how EMI is calculated and how time is given for us to repay\n",
    "### In this project/programme all variables and their values are assumed their can be various factors which can also play a role in loan amount \n",
    "### This code gives us a knowledge on how real world EMI calculation can happen for a loan"
   ]
  },
  {
   "cell_type": "code",
   "execution_count": 1,
   "metadata": {},
   "outputs": [
    {
     "name": "stdout",
     "output_type": "stream",
     "text": [
      "emter your age: 25\n",
      "enter your income: 30000\n",
      "You are elligible to take a loan of  4500000.0\n",
      "enter the loan amount to be taken: 100000\n",
      "select the no. of years in 5,10 years: 5\n",
      " S.no      loan   EMI Principle ROI Interest  Closing Loan\n",
      "  1      100000  2124    1275    10     849        98724\n",
      "  2       98724  2124    1286    10     838        97438\n",
      "  3       97438  2124    1297    10     827        96141\n",
      "  4       96141  2124    1308    10     816        94833\n",
      "  5       94833  2124    1319    10     805        93513\n",
      "  6       93513  2124    1330    10     794        92183\n",
      "  7       92183  2124    1341    10     782        90841\n",
      "  8       90841  2124    1353    10     771        89488\n",
      "  9       89488  2124    1364    10     760        88123\n",
      " 10       88123  2124    1376    10     748        86747\n",
      " 11       86747  2124    1387    10     736        85359\n",
      " 12       85359  2124    1399    10     724        83959\n",
      " 13       83959  2124    1411    10     713        82548\n",
      " 14       82548  2124    1423    10     701        81124\n",
      " 15       81124  2124    1435    10     689        79688\n",
      " 16       79688  2124    1447    10     676        78240\n",
      " 17       78240  2124    1460    10     664        76780\n",
      " 18       76780  2124    1472    10     652        75308\n",
      " 19       75308  2124    1485    10     639        73823\n",
      " 20       73823  2124    1497    10     626        72325\n",
      " 21       72325  2124    1510    10     614        70814\n",
      " 22       70814  2124    1523    10     601        69291\n",
      " 23       69291  2124    1536    10     588        67755\n",
      " 24       67755  2124    1549    10     575        66206\n",
      " 25       66206  2124    1562    10     562        64643\n",
      " 26       64643  2124    1575    10     549        63068\n",
      " 27       63068  2124    1589    10     535        61479\n",
      " 28       61479  2124    1602    10     522        59876\n",
      " 29       59876  2124    1616    10     508        58260\n",
      " 30       58260  2124    1629    10     494        56630\n",
      " 31       56630  2124    1643    10     480        54986\n",
      " 32       54986  2124    1657    10     467        53329\n",
      " 33       53329  2124    1671    10     452        51657\n",
      " 34       51657  2124    1685    10     438        49971\n",
      " 35       49971  2124    1700    10     424        48270\n",
      " 36       48270  2124    1714    10     409        46556\n",
      " 37       46556  2124    1729    10     395        44826\n",
      " 38       44826  2124    1743    10     380        43082\n",
      " 39       43082  2124    1758    10     365        41324\n",
      " 40       41324  2124    1773    10     350        39550\n",
      " 41       39550  2124    1788    10     335        37761\n",
      " 42       37761  2124    1803    10     320        35957\n",
      " 43       35957  2124    1819    10     305        34138\n",
      " 44       34138  2124    1834    10     289        32303\n",
      " 45       32303  2124    1850    10     274        30453\n",
      " 46       30453  2124    1866    10     258        28587\n",
      " 47       28587  2124    1881    10     242        26705\n",
      " 48       26705  2124    1897    10     226        24807\n",
      " 49       24807  2124    1914    10     210        22893\n",
      " 50       22893  2124    1930    10     194        20963\n",
      " 51       20963  2124    1946    10     178        19016\n",
      " 52       19016  2124    1963    10     161        17053\n",
      " 53       17053  2124    1979    10     144        15073\n",
      " 54       15073  2124    1996    10     128        13076\n",
      " 55       13076  2124    2013    10     111        11063\n",
      " 56       11063  2124    2030    10      93         9032\n",
      " 57        9032  2124    2047    10      76         6984\n",
      " 58        6984  2124    2065    10      59         4918\n",
      " 59        4918  2124    2082    10      41         2836\n",
      " 60        2836  2124    2100    10      24          735\n"
     ]
    }
   ],
   "source": [
    "age = int(input('emter your age: '))\n",
    "income = int(input('enter your income: '))\n",
    "if age>=25 and age<=50: # The is considered in general case\n",
    "    # loan amounts and repayment\n",
    "    if income>20000:# Generally considered as 20,000\n",
    "        eligibility = (income/2)*(50-age)*12\n",
    "        print('You are elligible to take a loan of ',eligibility)\n",
    "    \n",
    "    ROI = 10 #ROI is rate of interest\n",
    "    rate = ROI/100.0 # Converting rate into decimal value\n",
    "    loan = float(input('enter the loan amount to be taken: '))\n",
    "    term = int(input('select the no. of years in 5,10 years: '))\n",
    "    \n",
    "    final_rate = ROI/(12*100.0)\n",
    "    total_term = term*12\n",
    "    EMI = (loan*final_rate*pow(1+final_rate,total_term))/(pow(1+final_rate,total_term)-1)# formula for calculating EMI\n",
    "    \n",
    "    time = term*12 # finding the total time\n",
    "    \n",
    "    print(\"%5s%10s%6s%10s%4s%9s%14s\" % (\"S.no\",\"loan\",\"EMI\",\"Principle\",\"ROI\",\"Interest\",\"Closing Loan\"))\n",
    "    \n",
    "    for i in range(1,time+1): # calculating for the values\n",
    "        \n",
    "        interest = loan*rate/365*31\n",
    "        principal = EMI - interest\n",
    "        closing_loan = loan - principal\n",
    "        print('%3d%12d%6d%8d%6d%8d%13d' % (i,loan,EMI,principal,ROI,interest,closing_loan))\n",
    "        loan = closing_loan\n",
    "        "
   ]
  }
 ],
 "metadata": {
  "kernelspec": {
   "display_name": "Python 3",
   "language": "python",
   "name": "python3"
  },
  "language_info": {
   "codemirror_mode": {
    "name": "ipython",
    "version": 3
   },
   "file_extension": ".py",
   "mimetype": "text/x-python",
   "name": "python",
   "nbconvert_exporter": "python",
   "pygments_lexer": "ipython3",
   "version": "3.8.5"
  }
 },
 "nbformat": 4,
 "nbformat_minor": 4
}
